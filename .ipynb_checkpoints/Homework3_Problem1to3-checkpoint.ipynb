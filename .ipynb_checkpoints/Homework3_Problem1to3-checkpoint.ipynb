{
 "cells": [
  {
   "cell_type": "code",
   "execution_count": 1,
   "metadata": {},
   "outputs": [],
   "source": [
    "# Problem 1\n",
    "DICTIONARY = {\n",
    "    'Dictionary': 'A collection of key-value pairs.', \n",
    "    'String': 'A series of characters.',  \n",
    "    'Boolean Expression': 'An expression that evaluates to True or False.',  \n",
    "    'Comment': 'A note in a program that the Python interpreter ignores.',  \n",
    "    'Value': 'An item associated with a key in a dictionary.',  \n",
    "    'Loop': 'Work through a collection of items, one at a time.',  \n",
    "    'List': 'A collection of items in a particular order.',  \n",
    "    'Key': 'The first item in a key-value pair in a dictionary.',\n",
    "    'Float': 'A numerical value with a decimal component.'\n",
    "    }\n",
    "\n"
   ]
  },
  {
   "cell_type": "code",
   "execution_count": 2,
   "metadata": {},
   "outputs": [],
   "source": [
    "def main():\n",
    "    for key, value in DICTIONARY.items():\n",
    "        print('{}: {}'.format(key, value))"
   ]
  },
  {
   "cell_type": "code",
   "execution_count": 3,
   "metadata": {},
   "outputs": [
    {
     "name": "stdout",
     "output_type": "stream",
     "text": [
      "Dictionary: A collection of key-value pairs.\n",
      "String: A series of characters.\n",
      "Boolean Expression: An expression that evaluates to True or False.\n",
      "Comment: A note in a program that the Python interpreter ignores.\n",
      "Value: An item associated with a key in a dictionary.\n",
      "Loop: Work through a collection of items, one at a time.\n",
      "List: A collection of items in a particular order.\n",
      "Key: The first item in a key-value pair in a dictionary.\n",
      "Float: A numerical value with a decimal component.\n"
     ]
    }
   ],
   "source": [
    "if __name__ == '__main__':\n",
    "    main()"
   ]
  },
  {
   "cell_type": "code",
   "execution_count": 4,
   "metadata": {},
   "outputs": [],
   "source": [
    "# Problem 2\n",
    "Alexis = {'Willy Wonka','Star Wars','Boogie Nights', 'There Will Be Blood', 'Y Tu Mama Tambien', 'Coco', 'Good Burger', 'Dirty Dancing'}\n",
    "Mayrav = {'The Dark Knight', 'Ghostbusters','Star Wars', 'Willy Wonka', 'Goodfellas', 'Fight Club', 'There Will Be Blood'}"
   ]
  },
  {
   "cell_type": "code",
   "execution_count": 5,
   "metadata": {},
   "outputs": [
    {
     "name": "stdout",
     "output_type": "stream",
     "text": [
      "{'There Will Be Blood', 'Star Wars', 'Willy Wonka'}\n"
     ]
    }
   ],
   "source": [
    "#What favorite movies do you have in common with the other person?\n",
    "print(Alexis.intersection(Mayrav))"
   ]
  },
  {
   "cell_type": "code",
   "execution_count": 6,
   "metadata": {},
   "outputs": [
    {
     "name": "stdout",
     "output_type": "stream",
     "text": [
      "{'Y Tu Mama Tambien', 'Good Burger', 'Coco', 'Boogie Nights', 'Dirty Dancing'}\n"
     ]
    }
   ],
   "source": [
    "#What movies are your favorite but aren't the other persons?\n",
    "print(Alexis.difference(Mayrav))"
   ]
  },
  {
   "cell_type": "code",
   "execution_count": 7,
   "metadata": {},
   "outputs": [],
   "source": [
    "# Problem 3\n",
    "daily_tuple = (\n",
    "    'wake up',\n",
    "    'make coffee',\n",
    "    'shower/wash face',\n",
    "    'drink coffee',\n",
    "    'read the news',\n",
    "    'take the subway to work',\n",
    "    'listen to podcast',\n",
    "    'work part 1',\n",
    "    'enjoy lunch',\n",
    "    'work part 2',\n",
    "    'take the subway home',\n",
    "    'read an article',\n",
    "    'exercise',\n",
    "    'wash my face and hair',\n",
    "    'read a novel',\n",
    "    'sleep'\n",
    "    )"
   ]
  },
  {
   "cell_type": "code",
   "execution_count": 8,
   "metadata": {},
   "outputs": [],
   "source": [
    "def main():\n",
    "    print(\"First, I {}.\".format(daily_tuple[0]))\n",
    "    for daily in daily_tuple[1:15]:\n",
    "        print(\"Then, I {}.\".format(daily))\n",
    "    print(\"Lastly, I {}.\".format(daily_tuple[15]))"
   ]
  },
  {
   "cell_type": "code",
   "execution_count": 9,
   "metadata": {},
   "outputs": [
    {
     "name": "stdout",
     "output_type": "stream",
     "text": [
      "First, I wake up.\n",
      "Then, I make coffee.\n",
      "Then, I shower/wash face.\n",
      "Then, I drink coffee.\n",
      "Then, I read the news.\n",
      "Then, I take the subway to work.\n",
      "Then, I listen to podcast.\n",
      "Then, I work part 1.\n",
      "Then, I enjoy lunch.\n",
      "Then, I work part 2.\n",
      "Then, I take the subway home.\n",
      "Then, I read an article.\n",
      "Then, I exercise.\n",
      "Then, I wash my face and hair.\n",
      "Then, I read a novel.\n",
      "Lastly, I sleep.\n"
     ]
    }
   ],
   "source": [
    "if __name__ == '__main__':\n",
    "    main()"
   ]
  }
 ],
 "metadata": {
  "kernelspec": {
   "display_name": "Python 3",
   "language": "python",
   "name": "python3"
  },
  "language_info": {
   "codemirror_mode": {
    "name": "ipython",
    "version": 3
   },
   "file_extension": ".py",
   "mimetype": "text/x-python",
   "name": "python",
   "nbconvert_exporter": "python",
   "pygments_lexer": "ipython3",
   "version": "3.6.0"
  }
 },
 "nbformat": 4,
 "nbformat_minor": 2
}
